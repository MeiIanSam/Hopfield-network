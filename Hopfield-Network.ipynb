{
 "cells": [
  {
   "cell_type": "code",
   "execution_count": 1,
   "metadata": {},
   "outputs": [],
   "source": [
    "#title: Hopfield-network-and-asociated-memory\n",
    "#date: 2020-07-07"
   ]
  },
  {
   "cell_type": "code",
   "execution_count": 2,
   "metadata": {},
   "outputs": [],
   "source": [
    "import numpy as np\n",
    "import matplotlib.pyplot as plt"
   ]
  },
  {
   "cell_type": "code",
   "execution_count": 3,
   "metadata": {},
   "outputs": [],
   "source": [
    "#digits:: the fundametal memory\n",
    "zero = [[0, 0, 0, 0, 0, 0, 0, 0, 0, 0],[0, 0, 0, 1, 1, 1, 1, 0, 0, 0],[0, 0, 1, 1, 1, 1, 1, 1, 0, 0],[0, 0, 1, 1, 0, 0, 1, 1, 0, 0],[0, 1, 1, 0, 0, 0, 0, 1, 1, 0],[0, 1, 1, 0, 0, 0, 0, 1, 1, 0],[0, 1, 1, 1, 0, 0, 1, 1, 1, 0],[0, 0, 1, 1, 1, 1, 1, 1, 0, 0],[0, 0, 0, 1, 1, 1, 1, 0, 0, 0],[0, 0, 0, 0, 0, 0, 0, 0, 0, 0]]\n",
    "one = [[0, 0, 0, 0, 0, 0, 0, 0, 0, 0],[0, 0, 0, 0, 0, 1, 1, 0, 0, 0],[0, 0, 0, 0, 1, 1, 1, 0, 0, 0],[0, 0, 0, 1, 1, 1, 1, 0, 0, 0],[0, 0, 0, 0, 1, 1, 1, 0, 0, 0],[0, 0, 0, 0, 1, 1, 1, 0, 0, 0],[0, 0, 0, 0, 1, 1, 1, 0, 0, 0],[0, 0, 0, 0, 1, 1, 1, 0, 0, 0],[0, 0, 0, 0, 1, 1, 1, 0, 0, 0],[0, 0, 0, 0, 1, 1, 1, 0, 0, 0]]\n",
    "two = [[0, 0, 0, 0, 0, 0, 0, 0, 0, 0],[0, 0, 0, 1, 1, 1, 1, 0, 0, 0],[0, 0, 1, 1, 1, 1, 1, 1, 0, 0],[0, 1, 1, 0, 0, 0, 1, 1, 1, 0],[0, 1, 1, 0, 0, 0, 0, 1, 1, 0],[0, 0, 0, 0, 0, 0, 0, 1, 1, 0],[0, 0, 0, 0, 0, 0, 1, 1, 0, 0],[0, 0, 0, 0, 1, 1, 1, 0, 0, 0],[0, 1, 1, 1, 1, 1, 1, 1, 1, 1],[0, 1, 1, 1, 1, 1, 1, 1, 1, 1]]\n",
    "three = [[0, 1, 1, 1, 1, 1, 1, 1, 1, 0],[0, 1, 1, 1, 1, 1, 1, 1, 0, 0],[0, 0, 0, 0, 1, 1, 1, 0, 0, 0],[0, 0, 0, 0, 1, 1, 0, 0, 0, 0],[0, 0, 0, 1, 1, 1, 0, 0, 0, 0],[0, 0, 0, 0, 1, 1, 1, 1, 1, 0],[0, 0, 0, 0, 0, 0, 0, 1, 1, 1],[0, 0, 1, 0, 0, 0, 1, 1, 1, 0],[0, 1, 1, 1, 1, 1, 1, 1, 0, 0],[0, 0, 1, 1, 1, 1, 1, 0, 0, 0]]\n",
    "four = [[0, 0, 0, 0, 0, 1, 1, 0, 0, 0],[0, 0, 0, 0, 1, 1, 1, 0, 0, 0],[0, 0, 0, 1, 1, 1, 1, 0, 0, 0],[0, 0, 1, 1, 0, 1, 1, 0, 0, 0],[0, 1, 1, 0, 0, 1, 1, 0, 0, 0],[1, 1, 0, 0, 0, 1, 1, 0, 0, 0],[1, 1, 1, 1, 1, 1, 1, 1, 1, 1],[1, 1, 1, 1, 1, 1, 1, 1, 1, 1],[0, 0, 0, 0, 0, 1, 1, 0, 0, 0],[0, 0, 0, 0, 0, 1, 1, 0, 0, 0]]\n",
    "five = [[1, 1, 1, 1, 1, 1, 1, 1, 1, 0],[1, 1, 1, 1, 1, 1, 1, 1, 1, 0],[1, 1, 0, 0, 0, 0, 0, 0, 0, 0],[1, 1, 0, 0, 0, 0, 0, 0, 0, 0],[1, 1, 1, 1, 1, 1, 1, 1, 0, 0],[0, 1, 1, 1, 1, 1, 1, 1, 1, 0],[0, 0, 0, 0, 0, 0, 0, 1, 1, 1],[0, 1, 1, 0, 0, 0, 0, 1, 1, 0],[0, 1, 1, 1, 1, 1, 1, 1, 0, 0],[0, 0, 1, 1, 1, 1, 1, 0, 0, 0]]\n",
    "six = [[0, 0, 0, 1, 1, 1, 1, 0, 0, 0],[0, 0, 1, 1, 1, 1, 1, 1, 0, 0],[0, 1, 1, 0, 0, 0, 1, 1, 0, 0],[0, 1, 1, 0, 0, 0, 1, 1, 0, 0],[1, 1, 0, 0, 0, 0, 0, 0, 0, 0],[1, 1, 1, 1, 1, 1, 1, 1, 0, 0],[0, 1, 1, 1, 1, 1, 1, 1, 1, 0],[0, 1, 1, 0, 0, 0, 1, 1, 1, 0],[0, 0, 1, 1, 1, 1, 1, 1, 0, 0],[0, 0, 0, 1, 1, 1, 1, 0, 0, 0]]\n",
    "seven = [[0, 0, 0, 0, 0, 0, 0, 0, 0, 0],[0, 1, 1, 1, 1, 1, 1, 1, 1, 0],[0, 1, 1, 1, 1, 1, 1, 1, 1, 0],[0, 0, 0, 0, 0, 0, 1, 1, 0, 0],[0, 0, 0, 0, 0, 0, 1, 1, 0, 0],[0, 0, 0, 0, 0, 0, 1, 1, 0, 0],[0, 0, 0, 0, 0, 0, 1, 1, 0, 0],[0, 0, 0, 0, 0, 0, 1, 1, 0, 0],[0, 0, 0, 0, 0, 0, 1, 1, 0, 0],[0, 0, 0, 0, 0, 0, 1, 1, 0, 0]]\n",
    "eight = [[0, 0, 0, 0, 1, 1, 0, 0, 0, 0],[0, 0, 0, 1, 1, 1, 1, 0, 0, 0],[0, 0, 1, 1, 1, 1, 1, 1, 0, 0],[0, 1, 1, 0, 0, 0, 1, 1, 0, 0],[0, 1, 1, 0, 0, 0, 0, 1, 1, 0],[0, 0, 1, 1, 1, 1, 1, 1, 0, 0],[0, 1, 1, 0, 0, 0, 0, 1, 1, 0],[0, 1, 1, 1, 0, 0, 1, 1, 1, 0],[0, 0, 1, 1, 1, 1, 1, 1, 0, 0],[0, 0, 0, 0, 1, 1, 0, 0, 0, 0]]\n",
    "nine = [[0, 0, 0, 1, 1, 1, 0, 0, 0, 0],[0, 0, 0, 1, 1, 1, 1, 0, 0, 0],[0, 0, 1, 1, 0, 0, 1, 1, 0, 0],[0, 0, 1, 1, 0, 0, 1, 1, 0, 0],[0, 1, 1, 0, 0, 0, 0, 1, 1, 0],[0, 1, 1, 1, 0, 0, 0, 1, 1, 0],[0, 1, 1, 1, 1, 1, 1, 1, 1, 0],[0, 0, 1, 1, 1, 1, 1, 1, 0, 0],[0, 0, 0, 0, 0, 0, 1, 1, 0, 0],[0, 0, 0, 0, 0, 0, 1, 1, 0, 0]]"
   ]
  },
  {
   "cell_type": "code",
   "execution_count": 4,
   "metadata": {},
   "outputs": [
    {
     "data": {
      "image/png": "[encoded data removed]",
      "text/plain": [
       "<Figure size 720x288 with 10 Axes>"
      ]
     },
     "metadata": {
      "needs_background": "light"
     },
     "output_type": "display_data"
    }
   ],
   "source": [
    "memories = [zero,one,two,three,four,five,six,seven,eight,nine]\n",
    "fig = plt.figure(figsize = (10,4))\n",
    "plt.suptitle('The fundamentle memories')\n",
    "for i,number in enumerate(memories):\n",
    "    plt.subplot(2,5,i+1)\n",
    "    plt.imshow(number)\n",
    "    plt.title('%d'%(i))\n",
    "    plt.axis('off')"
   ]
  },
  {
   "cell_type": "code",
   "execution_count": 5,
   "metadata": {},
   "outputs": [],
   "source": [
    "#construct the W matrix.\n",
    "def Wmatrix(number):\n",
    "    number = np.array(number)\n",
    "    number[number <1] = -1\n",
    "    return np.outer(number,number)\n",
    "\n",
    "def W_loop(mems):\n",
    "    if len(mems) ==1:\n",
    "        return Wmatrix(mems[0])\n",
    "    else:\n",
    "        return Wmatrix(mems[0]) + W_loop(mems[1:])\n",
    "    \n",
    "memories = [zero,one,two]\n",
    "# memories = [zero,one,two,three,four,five,six,seven,eight,nine]\n",
    "w = W_loop(memories)/len(memories)"
   ]
  },
  {
   "cell_type": "code",
   "execution_count": 6,
   "metadata": {},
   "outputs": [],
   "source": [
    "def generator(number,noise):\n",
    "    number = np.array(number)\n",
    "    number[number<1] = -1\n",
    "    return number + (np.random.random((10,10))*2-1)*noise"
   ]
  },
  {
   "cell_type": "code",
   "execution_count": 7,
   "metadata": {},
   "outputs": [],
   "source": [
    "def Hopfield(steps,signal):\n",
    "    nlst = np.arange(100)\n",
    "    np.random.shuffle(nlst)\n",
    "    signal = np.array(signal).reshape(100,1)\n",
    "    for step in range(steps):\n",
    "        for i in nlst:\n",
    "            signal[i] = np.sign(np.dot(np.array(w[i]),signal))\n",
    "    return signal"
   ]
  },
  {
   "cell_type": "code",
   "execution_count": 8,
   "metadata": {},
   "outputs": [
    {
     "data": {
      "image/png": "[encoded data removed]",
      "text/plain": [
       "<Figure size 720x720 with 2 Axes>"
      ]
     },
     "metadata": {
      "needs_background": "light"
     },
     "output_type": "display_data"
    },
    {
     "data": {
      "image/png": "[encoded data removed]",
      "text/plain": [
       "<Figure size 720x720 with 2 Axes>"
      ]
     },
     "metadata": {
      "needs_background": "light"
     },
     "output_type": "display_data"
    },
    {
     "data": {
      "image/png": "[encoded data removed]",
      "text/plain": [
       "<Figure size 720x720 with 2 Axes>"
      ]
     },
     "metadata": {
      "needs_background": "light"
     },
     "output_type": "display_data"
    }
   ],
   "source": [
    "memories = [zero,one,two]\n",
    "# memories = [zero,one,two,three,four,five,six,seven,eight,nine]\n",
    "w = W_loop(memories)/len(memories)\n",
    "\n",
    "for i,memory in enumerate(memories):\n",
    "    sin = generator(memory,1)\n",
    "    sout = Hopfield(100,sin)\n",
    "    fig = plt.figure(figsize = (10,10))\n",
    "    plt.subplot(len(memories),2,2*i+1)\n",
    "    plt.imshow(sin)\n",
    "    plt.title('input')\n",
    "    plt.subplot(len(memories),2,2*i+2)\n",
    "    plt.imshow(sout.reshape(10,10))\n",
    "    plt.title('output')"
   ]
  },
  {
   "cell_type": "code",
   "execution_count": null,
   "metadata": {},
   "outputs": [],
   "source": []
  }
 ],
 "metadata": {
  "kernelspec": {
   "display_name": "Python 3",
   "language": "python",
   "name": "python3"
  },
  "language_info": {
   "codemirror_mode": {
    "name": "ipython",
    "version": 3
   },
   "file_extension": ".py",
   "mimetype": "text/x-python",
   "name": "python",
   "nbconvert_exporter": "python",
   "pygments_lexer": "ipython3",
   "version": "3.7.6"
  }
 },
 "nbformat": 4,
 "nbformat_minor": 4
}
